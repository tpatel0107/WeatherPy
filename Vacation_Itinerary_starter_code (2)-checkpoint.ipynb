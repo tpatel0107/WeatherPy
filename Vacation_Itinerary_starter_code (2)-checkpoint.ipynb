{
 "cells": [
  {
   "cell_type": "markdown",
   "metadata": {},
   "source": [
    "## Deliverable 3. Create a Travel Itinerary Map."
   ]
  },
  {
   "cell_type": "code",
   "execution_count": 4,
   "metadata": {},
   "outputs": [],
   "source": [
    "# Dependencies and Setup\n",
    "import pandas as pd\n",
    "import requests\n",
    "import gmaps\n",
    "\n",
    "# Import API key\n",
    "from config import g_key\n",
    "\n",
    "# Configure gmaps\n",
    "gmaps.configure(api_key=g_key)"
   ]
  },
  {
   "cell_type": "code",
   "execution_count": 5,
   "metadata": {},
   "outputs": [
    {
     "data": {
      "text/html": [
       "<div>\n",
       "<style scoped>\n",
       "    .dataframe tbody tr th:only-of-type {\n",
       "        vertical-align: middle;\n",
       "    }\n",
       "\n",
       "    .dataframe tbody tr th {\n",
       "        vertical-align: top;\n",
       "    }\n",
       "\n",
       "    .dataframe thead th {\n",
       "        text-align: right;\n",
       "    }\n",
       "</style>\n",
       "<table border=\"1\" class=\"dataframe\">\n",
       "  <thead>\n",
       "    <tr style=\"text-align: right;\">\n",
       "      <th></th>\n",
       "      <th>City_ID</th>\n",
       "      <th>City</th>\n",
       "      <th>Country</th>\n",
       "      <th>Max Temp</th>\n",
       "      <th>Weather Description</th>\n",
       "      <th>Lat</th>\n",
       "      <th>Lng</th>\n",
       "      <th>Hotel Name</th>\n",
       "      <th>Current Description</th>\n",
       "    </tr>\n",
       "  </thead>\n",
       "  <tbody>\n",
       "    <tr>\n",
       "      <th>0</th>\n",
       "      <td>0</td>\n",
       "      <td>Noormarkku</td>\n",
       "      <td>FI</td>\n",
       "      <td>41.00</td>\n",
       "      <td>clear sky</td>\n",
       "      <td>61.5927</td>\n",
       "      <td>21.8685</td>\n",
       "      <td>Ahlströmin Ruukki Noormarkku</td>\n",
       "      <td>broken clouds</td>\n",
       "    </tr>\n",
       "    <tr>\n",
       "      <th>1</th>\n",
       "      <td>8</td>\n",
       "      <td>Kyzyl-Suu</td>\n",
       "      <td>KG</td>\n",
       "      <td>39.09</td>\n",
       "      <td>overcast clouds</td>\n",
       "      <td>42.3414</td>\n",
       "      <td>78.0056</td>\n",
       "      <td>Gostinitsa Nur-Ordo</td>\n",
       "      <td>clear sky</td>\n",
       "    </tr>\n",
       "    <tr>\n",
       "      <th>2</th>\n",
       "      <td>10</td>\n",
       "      <td>Nakhodka</td>\n",
       "      <td>RU</td>\n",
       "      <td>37.08</td>\n",
       "      <td>overcast clouds</td>\n",
       "      <td>42.8333</td>\n",
       "      <td>132.8947</td>\n",
       "      <td>Apartment on Pogranichnaya</td>\n",
       "      <td>broken clouds</td>\n",
       "    </tr>\n",
       "    <tr>\n",
       "      <th>3</th>\n",
       "      <td>12</td>\n",
       "      <td>Agapovka</td>\n",
       "      <td>RU</td>\n",
       "      <td>21.20</td>\n",
       "      <td>broken clouds</td>\n",
       "      <td>53.2973</td>\n",
       "      <td>59.1348</td>\n",
       "      <td>Gostinitsa Zhkkh</td>\n",
       "      <td>light rain</td>\n",
       "    </tr>\n",
       "    <tr>\n",
       "      <th>4</th>\n",
       "      <td>43</td>\n",
       "      <td>Hornepayne</td>\n",
       "      <td>CA</td>\n",
       "      <td>27.25</td>\n",
       "      <td>snow</td>\n",
       "      <td>49.2138</td>\n",
       "      <td>-84.7705</td>\n",
       "      <td>Jackfish River Inn</td>\n",
       "      <td>few clouds</td>\n",
       "    </tr>\n",
       "  </tbody>\n",
       "</table>\n",
       "</div>"
      ],
      "text/plain": [
       "   City_ID        City Country  Max Temp Weather Description      Lat  \\\n",
       "0        0  Noormarkku      FI     41.00           clear sky  61.5927   \n",
       "1        8   Kyzyl-Suu      KG     39.09     overcast clouds  42.3414   \n",
       "2       10    Nakhodka      RU     37.08     overcast clouds  42.8333   \n",
       "3       12    Agapovka      RU     21.20       broken clouds  53.2973   \n",
       "4       43  Hornepayne      CA     27.25                snow  49.2138   \n",
       "\n",
       "        Lng                    Hotel Name Current Description  \n",
       "0   21.8685  Ahlströmin Ruukki Noormarkku       broken clouds  \n",
       "1   78.0056           Gostinitsa Nur-Ordo           clear sky  \n",
       "2  132.8947    Apartment on Pogranichnaya       broken clouds  \n",
       "3   59.1348              Gostinitsa Zhkkh          light rain  \n",
       "4  -84.7705            Jackfish River Inn          few clouds  "
      ]
     },
     "execution_count": 5,
     "metadata": {},
     "output_type": "execute_result"
    }
   ],
   "source": [
    "# 1. Read the WeatherPy_vacation.csv into a DataFrame.\n",
    "vacation_df = pd.read_csv(\"WeatherPy_vacation.csv\")\n",
    "vacation_df.head()"
   ]
  },
  {
   "cell_type": "code",
   "execution_count": 6,
   "metadata": {},
   "outputs": [],
   "source": [
    "# 2. Using the template add the city name, the country code, the weather description and maximum temperature for the city.\n",
    "info_box_template = \"\"\"\n",
    "<dl>\n",
    "<dt>Hotel Name</dt><dd>{Hotel Name}</dd>\n",
    "<dt>City</dt><dd>{City}</dd>\n",
    "<dt>Country</dt><dd>{Country}</dd>\n",
    "<dt>Current Description</dt><dd>{Current Description}</dd>\n",
    "<dt>Max Temp</dt><dd>{Max Temp}</dd>\n",
    "</dl>\n",
    "\"\"\"\n",
    "\n",
    "# 3a. Get the data from each row and add it to the formatting template and store the data in a list.\n",
    "vacation_info = [info_box_template.format(**row) for index, row in vacation_df.iterrows()]\n",
    "\n",
    "# 3b. Get the latitude and longitude from each row and store in a new DataFrame.\n",
    "locations = vacation_df[[\"Lat\", \"Lng\"]]"
   ]
  },
  {
   "cell_type": "code",
   "execution_count": 7,
   "metadata": {},
   "outputs": [
    {
     "data": {
      "application/vnd.jupyter.widget-view+json": {
       "model_id": "4d138209f8544d5d98b81f92d74e181b",
       "version_major": 2,
       "version_minor": 0
      },
      "text/plain": [
       "Figure(layout=FigureLayout(height='420px'))"
      ]
     },
     "metadata": {},
     "output_type": "display_data"
    }
   ],
   "source": [
    "# 4a. Add a marker layer for each city to the map.\n",
    "fig=gmaps.figure()\n",
    "marker_layer=gmaps.marker_layer(locations,info_box_content=vacation_info)\n",
    "fig.add_layer(marker_layer)\n",
    "\n",
    "# 4b. Display the figure\n",
    "fig\n"
   ]
  },
  {
   "cell_type": "code",
   "execution_count": 8,
   "metadata": {},
   "outputs": [
    {
     "data": {
      "text/plain": [
       "[   City_ID    City Country  Max Temp Weather Description      Lat      Lng  \\\n",
       " 7       60  Kovdor      RU     34.27       broken clouds  67.5662  30.4758   \n",
       " \n",
       "         Hotel Name Current Description  \n",
       " 7  Derevo Zhelaniy           clear sky  ,\n",
       "    City_ID  City Country  Max Temp Weather Description      Lat     Lng  \\\n",
       " 9       81  Amot      NO     23.56          few clouds  59.5714  7.9877   \n",
       " \n",
       "                         Hotel Name Current Description  \n",
       " 9  Groven Camping og Hyttegrend AS           clear sky  ,\n",
       "     City_ID      City Country  Max Temp Weather Description      Lat      Lng  \\\n",
       " 10       83  Olafsvik      IS      33.6     overcast clouds  64.8945 -23.7142   \n",
       " \n",
       "         Hotel Name Current Description  \n",
       " 10  Hotel Olafsvik     overcast clouds  ,\n",
       "     City_ID   City Country  Max Temp Weather Description      Lat       Lng  \\\n",
       " 13      119  Homer      US      36.0       broken clouds  59.6425 -151.5483   \n",
       " \n",
       "            Hotel Name Current Description  \n",
       " 13  Beluga Lake Lodge          light rain  ]"
      ]
     },
     "execution_count": 8,
     "metadata": {},
     "output_type": "execute_result"
    }
   ],
   "source": [
    "# From the map above pick 4 cities and create a vacation itinerary route to travel between the four cities. \n",
    "# 5. Create DataFrames for each city by filtering the 'vacation_df' using the loc method. \n",
    "# Hint: The starting and ending city should be the same city.\n",
    "\n",
    "vacation_start = vacation_df.loc[vacation_df[\"City\"]==\"Kovdor\"]\n",
    "vacation_end = vacation_df.loc[vacation_df[\"City\"]==\"Kovdor\"]\n",
    "vacation_stop1 = vacation_df.loc[vacation_df[\"City\"]==\"Amot\"]\n",
    "vacation_stop2 = vacation_df.loc[vacation_df[\"City\"]==\"Olafsvik\"] \n",
    "vacation_stop3 = vacation_df.loc[vacation_df[\"City\"]==\"Homer\"] \n",
    "vacation_stops=[vacation_start,vacation_stop1,vacation_stop2,vacation_stop3]\n",
    "#vacation_stops                   "
   ]
  },
  {
   "cell_type": "code",
   "execution_count": 11,
   "metadata": {},
   "outputs": [
    {
     "name": "stdout",
     "output_type": "stream",
     "text": [
      "start (67.5662, 30.4758)\n",
      "end (67.5662, 30.4758)\n",
      "stop1 (59.5714, 7.9877)\n",
      "stop2 (64.8945, -23.7142)\n",
      "stop3 (59.6425, -151.5483)\n"
     ]
    }
   ],
   "source": [
    "# 6. Get the latitude-longitude pairs as tuples from each city DataFrame using the to_numpy function and list indexing.\n",
    "start = vacation_start[\"Lat\"].to_numpy()[0],vacation_start[\"Lng\"].to_numpy()[0]\n",
    "end = vacation_start[\"Lat\"].to_numpy()[0],vacation_start[\"Lng\"].to_numpy()[0]\n",
    "stop1 = vacation_stop1[\"Lat\"].to_numpy()[0],vacation_stop1[\"Lng\"].to_numpy()[0]\n",
    "stop2 = vacation_stop2[\"Lat\"].to_numpy()[0],vacation_stop2[\"Lng\"].to_numpy()[0]\n",
    "stop3 = vacation_stop3[\"Lat\"].to_numpy()[0],vacation_stop3[\"Lng\"].to_numpy()[0]\n",
    "print(\"start\",start)\n",
    "print(\"end\",end)\n",
    "print (\"stop1\",stop1)\n",
    "print (\"stop2\",stop2)\n",
    "print (\"stop3\",stop3)"
   ]
  },
  {
   "cell_type": "code",
   "execution_count": 15,
   "metadata": {
    "scrolled": true
   },
   "outputs": [
    {
     "data": {
      "application/vnd.jupyter.widget-view+json": {
       "model_id": "2f690ea1ad244cbbab293ae233e15550",
       "version_major": 2,
       "version_minor": 0
      },
      "text/plain": [
       "Figure(layout=FigureLayout(border='2px solid black', height='700px', width='500px'))"
      ]
     },
     "metadata": {},
     "output_type": "display_data"
    }
   ],
   "source": [
    "# 7. Create a direction layer map using the start and end latitude-longitude pairs,\n",
    "# and stop1, stop2, and stop3 as the waypoints. The travel_mode should be \"DRIVING\", \"BICYCLING\", or \"WALKING\".\n",
    "direction_layout_fig={\"width\":\"500px\",\"height\":\"700px\",\"border\":\"2px solid black\"}\n",
    "fig=gmaps.figure(layout=direction_layout_fig)\n",
    "vacation_itinerary=gmaps.directions_layer(start,end,waypoints=[stop1,stop2,stop3],travel_mode=\"DRIVING\")\n",
    "#vacation_itinerary = gmaps.directions_layer(start, end, waypoints=[stop1, stop2, stop3], travel_mode='DRIVING')\n",
    "fig.add_layer(vacation_itinerary)\n",
    "fig"
   ]
  },
  {
   "cell_type": "code",
   "execution_count": 16,
   "metadata": {},
   "outputs": [
    {
     "data": {
      "text/html": [
       "<div>\n",
       "<style scoped>\n",
       "    .dataframe tbody tr th:only-of-type {\n",
       "        vertical-align: middle;\n",
       "    }\n",
       "\n",
       "    .dataframe tbody tr th {\n",
       "        vertical-align: top;\n",
       "    }\n",
       "\n",
       "    .dataframe thead th {\n",
       "        text-align: right;\n",
       "    }\n",
       "</style>\n",
       "<table border=\"1\" class=\"dataframe\">\n",
       "  <thead>\n",
       "    <tr style=\"text-align: right;\">\n",
       "      <th></th>\n",
       "      <th>City_ID</th>\n",
       "      <th>City</th>\n",
       "      <th>Country</th>\n",
       "      <th>Max Temp</th>\n",
       "      <th>Weather Description</th>\n",
       "      <th>Lat</th>\n",
       "      <th>Lng</th>\n",
       "      <th>Hotel Name</th>\n",
       "      <th>Current Description</th>\n",
       "    </tr>\n",
       "  </thead>\n",
       "  <tbody>\n",
       "    <tr>\n",
       "      <th>0</th>\n",
       "      <td>60</td>\n",
       "      <td>Kovdor</td>\n",
       "      <td>RU</td>\n",
       "      <td>34.27</td>\n",
       "      <td>broken clouds</td>\n",
       "      <td>67.5662</td>\n",
       "      <td>30.4758</td>\n",
       "      <td>Derevo Zhelaniy</td>\n",
       "      <td>clear sky</td>\n",
       "    </tr>\n",
       "    <tr>\n",
       "      <th>1</th>\n",
       "      <td>81</td>\n",
       "      <td>Amot</td>\n",
       "      <td>NO</td>\n",
       "      <td>23.56</td>\n",
       "      <td>few clouds</td>\n",
       "      <td>59.5714</td>\n",
       "      <td>7.9877</td>\n",
       "      <td>Groven Camping og Hyttegrend AS</td>\n",
       "      <td>clear sky</td>\n",
       "    </tr>\n",
       "    <tr>\n",
       "      <th>2</th>\n",
       "      <td>83</td>\n",
       "      <td>Olafsvik</td>\n",
       "      <td>IS</td>\n",
       "      <td>33.60</td>\n",
       "      <td>overcast clouds</td>\n",
       "      <td>64.8945</td>\n",
       "      <td>-23.7142</td>\n",
       "      <td>Hotel Olafsvik</td>\n",
       "      <td>overcast clouds</td>\n",
       "    </tr>\n",
       "    <tr>\n",
       "      <th>3</th>\n",
       "      <td>119</td>\n",
       "      <td>Homer</td>\n",
       "      <td>US</td>\n",
       "      <td>36.00</td>\n",
       "      <td>broken clouds</td>\n",
       "      <td>59.6425</td>\n",
       "      <td>-151.5483</td>\n",
       "      <td>Beluga Lake Lodge</td>\n",
       "      <td>light rain</td>\n",
       "    </tr>\n",
       "  </tbody>\n",
       "</table>\n",
       "</div>"
      ],
      "text/plain": [
       "   City_ID      City Country  Max Temp Weather Description      Lat       Lng  \\\n",
       "0       60    Kovdor      RU     34.27       broken clouds  67.5662   30.4758   \n",
       "1       81      Amot      NO     23.56          few clouds  59.5714    7.9877   \n",
       "2       83  Olafsvik      IS     33.60     overcast clouds  64.8945  -23.7142   \n",
       "3      119     Homer      US     36.00       broken clouds  59.6425 -151.5483   \n",
       "\n",
       "                        Hotel Name Current Description  \n",
       "0                  Derevo Zhelaniy           clear sky  \n",
       "1  Groven Camping og Hyttegrend AS           clear sky  \n",
       "2                   Hotel Olafsvik     overcast clouds  \n",
       "3                Beluga Lake Lodge          light rain  "
      ]
     },
     "execution_count": 16,
     "metadata": {},
     "output_type": "execute_result"
    }
   ],
   "source": [
    "# 8. To create a marker layer map between the four cities.\n",
    "#  Combine the four city DataFrames into one DataFrame using the concat() function.\n",
    "itinerary_df = pd.concat(vacation_stops,ignore_index=True)\n",
    "itinerary_df"
   ]
  },
  {
   "cell_type": "code",
   "execution_count": 18,
   "metadata": {},
   "outputs": [],
   "source": [
    "# 9 Using the template add city name, the country code, the weather description and maximum temperature for the city. \n",
    "info_box_template = \"\"\"\n",
    "<dl>\n",
    "<dt>Hotel Name</dt><dd>{Hotel Name}</dd>\n",
    "<dt>City</dt><dd>{City}</dd>\n",
    "<dt>Country</dt><dd>{Country}</dd>\n",
    "<dt>Current Description</dt><dd>{Current Description}</dd>\n",
    "<dt>Max Temp</dt><dd>{Max Temp}</dd>\n",
    "</dl>\n",
    "\"\"\"\n",
    "\n",
    "# 10a Get the data from each row and add it to the formatting template and store the data in a list.\n",
    "hotel_info = [info_box_template.format(**row) for index, row in itinerary_df.iterrows()]\n",
    "\n",
    "# 10b. Get the latitude and longitude from each row and store in a new DataFrame.\n",
    "locations = itinerary_df[[\"Lat\", \"Lng\"]]"
   ]
  },
  {
   "cell_type": "code",
   "execution_count": 20,
   "metadata": {},
   "outputs": [
    {
     "data": {
      "application/vnd.jupyter.widget-view+json": {
       "model_id": "9eb7fd795df44f398d7cb2959e7a3a43",
       "version_major": 2,
       "version_minor": 0
      },
      "text/plain": [
       "Figure(layout=FigureLayout(border='2px solid black', height='700px', width='500px'))"
      ]
     },
     "metadata": {},
     "output_type": "display_data"
    }
   ],
   "source": [
    "# 11a. Add a marker layer for each city to the map.\n",
    "layout_fig={\"width\":\"500px\",\"height\":\"700px\",\"border\":\"2px solid black\"}\n",
    "fig=gmaps.figure(layout=layout_fig)\n",
    "marker_layer=gmaps.marker_layer(locations,info_box_content=hotel_info)\n",
    "fig.add_layer(marker_layer)\n",
    "# 11b. Display the figure\n",
    "fig"
   ]
  },
  {
   "cell_type": "code",
   "execution_count": null,
   "metadata": {},
   "outputs": [],
   "source": []
  }
 ],
 "metadata": {
  "kernelspec": {
   "display_name": "Python 3 (ipykernel)",
   "language": "python",
   "name": "python3"
  },
  "language_info": {
   "codemirror_mode": {
    "name": "ipython",
    "version": 3
   },
   "file_extension": ".py",
   "mimetype": "text/x-python",
   "name": "python",
   "nbconvert_exporter": "python",
   "pygments_lexer": "ipython3",
   "version": "3.8.11"
  },
  "latex_envs": {
   "LaTeX_envs_menu_present": true,
   "autoclose": false,
   "autocomplete": true,
   "bibliofile": "biblio.bib",
   "cite_by": "apalike",
   "current_citInitial": 1,
   "eqLabelWithNumbers": true,
   "eqNumInitial": 1,
   "hotkeys": {
    "equation": "Ctrl-E",
    "itemize": "Ctrl-I"
   },
   "labels_anchors": false,
   "latex_user_defs": false,
   "report_style_numbering": false,
   "user_envs_cfg": false
  }
 },
 "nbformat": 4,
 "nbformat_minor": 2
}
